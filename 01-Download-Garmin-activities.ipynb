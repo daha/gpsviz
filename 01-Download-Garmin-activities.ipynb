{
 "cells": [
  {
   "cell_type": "markdown",
   "metadata": {
    "deletable": true,
    "editable": true
   },
   "source": [
    "## Download the activities from Garmin\n",
    "\n",
    "There are a few options to download all the activities from Garmin. One is to run this notebook, for instance with \"Run All\" under Cell in the menu, you will be prompted for your username and password below. You will not see any progress until the command is done or fails for some reason. \n",
    "\n",
    "Another option is to start a terminal, which you can find when clicking on the \"New\" button in the view where this notebooks was listed. In the terminal you run the command below, you will be prompted for username and password and then you can follow on the screen how your activities are being downloaded. \n",
    "````\n",
    "gcexport.py -f tcx -c all -d /home/jovyan/work/data/garmin\n",
    "````"
   ]
  },
  {
   "cell_type": "code",
   "execution_count": null,
   "metadata": {
    "collapsed": false,
    "deletable": true,
    "editable": true
   },
   "outputs": [],
   "source": [
    "from getpass import getpass\n",
    "username = raw_input('Garmin username: ')\n",
    "password = getpass('Garmin password: ')"
   ]
  },
  {
   "cell_type": "code",
   "execution_count": null,
   "metadata": {
    "collapsed": false,
    "deletable": true,
    "editable": true
   },
   "outputs": [],
   "source": [
    "%%bash -s \"$username\" \"$password\"\n",
    "username=$1\n",
    "password=$2\n",
    "gcexport.py --username $username --password $password -c all -f tcx -d /home/jovyan/work/data/garmin"
   ]
  }
 ],
 "metadata": {
  "kernelspec": {
   "display_name": "Python 2",
   "language": "python",
   "name": "python2"
  },
  "language_info": {
   "codemirror_mode": {
    "name": "ipython",
    "version": 2
   },
   "file_extension": ".py",
   "mimetype": "text/x-python",
   "name": "python",
   "nbconvert_exporter": "python",
   "pygments_lexer": "ipython2",
   "version": "2.7.12"
  }
 },
 "nbformat": 4,
 "nbformat_minor": 2
}
