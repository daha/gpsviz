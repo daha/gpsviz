{
 "cells": [
  {
   "cell_type": "markdown",
   "metadata": {
    "deletable": true,
    "editable": true
   },
   "source": [
    "# Extract and visualise the GPS data"
   ]
  },
  {
   "cell_type": "markdown",
   "metadata": {
    "deletable": true,
    "editable": true
   },
   "source": [
    "## Extract the locations \n",
    "Extract the location with a primitive sed/aws-script."
   ]
  },
  {
   "cell_type": "code",
   "execution_count": null,
   "metadata": {
    "collapsed": true,
    "deletable": true,
    "editable": true
   },
   "outputs": [],
   "source": [
    "%%bash\n",
    "sed 's/[<>]/ /g' /home/jovyan/work/data/garmin/*.tcx | \\\n",
    "    awk '\n",
    "    BEGIN {print \"timestamp,lat,lon\"} \n",
    "    /Time / {timestamp=$2} \n",
    "    /LatitudeDegrees / {lat=$2 }\n",
    "    # Assuming Longitude always comes after Latitude...\n",
    "    /LongitudeDegrees / {lon=$2; print timestamp\",\"lat\",\"lon}' | gzip > /home/jovyan/work/data/locations.csv.gz"
   ]
  },
  {
   "cell_type": "markdown",
   "metadata": {
    "deletable": true,
    "editable": true
   },
   "source": [
    "## Load the plotting libraries"
   ]
  },
  {
   "cell_type": "code",
   "execution_count": null,
   "metadata": {
    "collapsed": false,
    "deletable": true,
    "editable": true
   },
   "outputs": [],
   "source": [
    "import pandas as pd\n",
    "import numpy as np\n",
    "import datetime\n",
    "\n",
    "from bokeh.plotting import figure, output_notebook, show\n",
    "from bokeh.tile_providers import WMTSTileSource\n",
    "\n",
    "import datashader as ds\n",
    "\n",
    "from datashader import transfer_functions as tf\n",
    "from datashader.colors import Greys9\n",
    "\n",
    "from datashader.bokeh_ext import InteractiveImage\n",
    "from functools import partial\n",
    "from datashader.utils import export_image\n",
    "from datashader.colors import colormap_select, Greys9, Hot, viridis, inferno\n",
    "from IPython.core.display import HTML, display\n",
    "from functools import partial\n",
    "\n",
    "output_notebook()\n",
    "\n",
    "## TODO: Find a set of coordinates which do not distort the map\n",
    "EUROPE = x_range, y_range = ((-1113194.9079327357, 3896182.1777645755), \n",
    "                             (3503549.8435043739, 11068715.65937949))\n",
    "plot_width  = int(800)\n",
    "plot_height = int(plot_width//1.2)\n",
    "\n",
    "def wgs84_to_web_mercator(df, lon=\"lon\", lat=\"lat\"):\n",
    "    \"\"\"Converts decimal longitude/latitude to Web Mercator format\"\"\"\n",
    "    k = 6378137\n",
    "    df[\"x\"] = df[lon] * (k * np.pi/180.0)\n",
    "    df[\"y\"] = np.log(np.tan((90 + df[lat]) * np.pi/360.0)) * k\n",
    "    return df\n",
    "\n",
    "def base_plot(tools='pan,wheel_zoom,zoom_in,zoom_out,reset',\n",
    "              plot_width=plot_width, plot_height=plot_height, **plot_args):\n",
    "    p = figure(tools=tools, plot_width=plot_width, plot_height=plot_height,\n",
    "        x_range=x_range, y_range=y_range, outline_line_color=None,\n",
    "        min_border=0, min_border_left=0, min_border_right=0,\n",
    "        min_border_top=0, min_border_bottom=0, **plot_args)\n",
    "    \n",
    "    p.axis.visible = False\n",
    "    p.xgrid.grid_line_color = None\n",
    "    p.ygrid.grid_line_color = None\n",
    "    return p"
   ]
  },
  {
   "cell_type": "markdown",
   "metadata": {
    "deletable": true,
    "editable": true
   },
   "source": [
    "## Load the data"
   ]
  },
  {
   "cell_type": "code",
   "execution_count": null,
   "metadata": {
    "collapsed": false,
    "deletable": true,
    "editable": true
   },
   "outputs": [],
   "source": [
    "locations = pd.read_csv('/home/jovyan/work/data/locations.csv.gz', parse_dates=['timestamp'])\n",
    "locations"
   ]
  },
  {
   "cell_type": "markdown",
   "metadata": {
    "deletable": true,
    "editable": true
   },
   "source": [
    "### Convert the coordinates to Web mercator format"
   ]
  },
  {
   "cell_type": "code",
   "execution_count": null,
   "metadata": {
    "collapsed": false,
    "deletable": true,
    "editable": true
   },
   "outputs": [],
   "source": [
    "wgs84_to_web_mercator(locations)"
   ]
  },
  {
   "cell_type": "markdown",
   "metadata": {
    "deletable": true,
    "editable": true
   },
   "source": [
    "## Plot the data\n"
   ]
  },
  {
   "cell_type": "code",
   "execution_count": null,
   "metadata": {
    "collapsed": false,
    "deletable": true,
    "editable": true
   },
   "outputs": [],
   "source": [
    "tiles = {'osm': 'http://c.tile.openstreetmap.org/{Z}/{X}/{Y}.png',\n",
    "         'carto': 'http://a.basemaps.cartocdn.com/light_all/{Z}/{X}/{Y}.png',\n",
    "         'carto_dark': 'http://a.basemaps.cartocdn.com/dark_all/{Z}/{X}/{Y}.png'}\n",
    "\n",
    "def create_image(x_range, y_range, w=plot_width, h=plot_height):\n",
    "    cvs = ds.Canvas(plot_width=w, plot_height=h,\n",
    "                    x_range=x_range, y_range=y_range)\n",
    "    agg = cvs.points(locations, 'x', 'y',  ds.count())\n",
    "    img = tf.shade(agg, cmap=Hot, how='eq_hist')\n",
    "    return tf.dynspread(img, threshold=0.3, max_px=4)\n",
    "\n",
    "p = base_plot()\n",
    "p.add_tile(WMTSTileSource(url=tiles['carto_dark']))\n",
    "InteractiveImage(p, create_image)"
   ]
  }
 ],
 "metadata": {
  "kernelspec": {
   "display_name": "Python 3",
   "language": "python",
   "name": "python3"
  },
  "language_info": {
   "codemirror_mode": {
    "name": "ipython",
    "version": 3
   },
   "file_extension": ".py",
   "mimetype": "text/x-python",
   "name": "python",
   "nbconvert_exporter": "python",
   "pygments_lexer": "ipython3",
   "version": "3.5.2"
  }
 },
 "nbformat": 4,
 "nbformat_minor": 2
}
